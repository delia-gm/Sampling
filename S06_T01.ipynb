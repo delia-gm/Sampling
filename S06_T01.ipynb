{
 "cells": [
  {
   "cell_type": "markdown",
   "id": "f41831a2",
   "metadata": {},
   "source": [
    "# S06 T01: Tasca mètodes de mostreig"
   ]
  },
  {
   "cell_type": "code",
   "execution_count": 1,
   "id": "439295d2",
   "metadata": {},
   "outputs": [],
   "source": [
    "import math\n",
    "\n",
    "import numpy as np\n",
    "from numpy import random\n",
    "import pandas as pd\n",
    "\n",
    "\n",
    "import matplotlib.pyplot as plt\n",
    "import seaborn as sns"
   ]
  },
  {
   "cell_type": "markdown",
   "id": "e827780f",
   "metadata": {},
   "source": [
    "### Exercici 1: Agafa un conjunt de dades de tema esportiu que t'agradi. Realitza un mostreig de les dades generant una mostra aleatòria simple i una mostra sistemàtica."
   ]
  },
  {
   "cell_type": "markdown",
   "id": "cb0e1d30",
   "metadata": {},
   "source": [
    "El dataset escollit és sobre els Jocs Olímpics de Tokyo 2020. S'hi pot veure el detall de totes les competicions que van tenir lloc, juntament amb l'edat, nacionalitat, classificació i medalles de cada atleta"
   ]
  },
  {
   "cell_type": "markdown",
   "id": "935403a6",
   "metadata": {},
   "source": [
    "Columnes: \n",
    "- Unnamed: 0 : # de fila\n",
    "- Code: codi únic de cada atleta\n",
    "- Name: nom de l'atleta (COGNOM Nom)\n",
    "- Gender: Male o Female\n",
    "- Age: edat dels atletes\n",
    "- NOC: Comité Olímpic Nacional (206 en total)\n",
    "- Country: país (206 en total)\n",
    "- Discipline: cada codi indica una disciplina específica (46 en total)\n",
    "- Sport: esport equivalent al codi de la columna anterior (46 en total)\n",
    "- Event: tipus de competició (per equips, individual, masculina, femenina, etc.)\n",
    "- Rank: classificacio de cada 'Event', sent 1 la 1a posició.\n",
    "- Medal: medalla (Gold, Silver, Bronze o NaN)"
   ]
  },
  {
   "cell_type": "code",
   "execution_count": 2,
   "id": "82a42894",
   "metadata": {},
   "outputs": [
    {
     "name": "stderr",
     "output_type": "stream",
     "text": [
      "/var/folders/f1/1k69t1011n32zcq6vt7pt73c0000gn/T/ipykernel_1007/3270594272.py:5: FutureWarning: In a future version of pandas all arguments of DataFrame.drop except for the argument 'labels' will be keyword-only\n",
      "  olympics = olympics.drop('Unnamed: 0', 1)\n",
      "/var/folders/f1/1k69t1011n32zcq6vt7pt73c0000gn/T/ipykernel_1007/3270594272.py:6: FutureWarning: In a future version of pandas all arguments of DataFrame.drop except for the argument 'labels' will be keyword-only\n",
      "  olympics = olympics.drop('Code', 1) # la columna Name conté els mateixos unics valors que Code\n",
      "/var/folders/f1/1k69t1011n32zcq6vt7pt73c0000gn/T/ipykernel_1007/3270594272.py:7: FutureWarning: In a future version of pandas all arguments of DataFrame.drop except for the argument 'labels' will be keyword-only\n",
      "  olympics = olympics.drop('NOC', 1) #la columna Country conté la mateixa informació de forma més clara\n",
      "/var/folders/f1/1k69t1011n32zcq6vt7pt73c0000gn/T/ipykernel_1007/3270594272.py:8: FutureWarning: In a future version of pandas all arguments of DataFrame.drop except for the argument 'labels' will be keyword-only\n",
      "  olympics = olympics.drop('Discipline', 1) #la columna Sport conté la mateixa informació de forma més clara\n"
     ]
    },
    {
     "data": {
      "text/html": [
       "<div>\n",
       "<style scoped>\n",
       "    .dataframe tbody tr th:only-of-type {\n",
       "        vertical-align: middle;\n",
       "    }\n",
       "\n",
       "    .dataframe tbody tr th {\n",
       "        vertical-align: top;\n",
       "    }\n",
       "\n",
       "    .dataframe thead th {\n",
       "        text-align: right;\n",
       "    }\n",
       "</style>\n",
       "<table border=\"1\" class=\"dataframe\">\n",
       "  <thead>\n",
       "    <tr style=\"text-align: right;\">\n",
       "      <th></th>\n",
       "      <th>Name</th>\n",
       "      <th>Gender</th>\n",
       "      <th>Age</th>\n",
       "      <th>Country</th>\n",
       "      <th>Sport</th>\n",
       "      <th>Event</th>\n",
       "      <th>Rank</th>\n",
       "      <th>Medal</th>\n",
       "    </tr>\n",
       "  </thead>\n",
       "  <tbody>\n",
       "    <tr>\n",
       "      <th>12931</th>\n",
       "      <td>TAMURA Norika</td>\n",
       "      <td>Female</td>\n",
       "      <td>30</td>\n",
       "      <td>Japan</td>\n",
       "      <td>Fencing</td>\n",
       "      <td>Women's Sabre Individual</td>\n",
       "      <td>26.0</td>\n",
       "      <td>NaN</td>\n",
       "    </tr>\n",
       "    <tr>\n",
       "      <th>537</th>\n",
       "      <td>ANDRUSENKO Veronika</td>\n",
       "      <td>Female</td>\n",
       "      <td>30</td>\n",
       "      <td>Russia</td>\n",
       "      <td>Swimming</td>\n",
       "      <td>Women's 4 x 100m Freestyle Relay Team</td>\n",
       "      <td>NaN</td>\n",
       "      <td>NaN</td>\n",
       "    </tr>\n",
       "    <tr>\n",
       "      <th>11017</th>\n",
       "      <td>REID Zac</td>\n",
       "      <td>Male</td>\n",
       "      <td>21</td>\n",
       "      <td>New Zealand</td>\n",
       "      <td>Swimming</td>\n",
       "      <td>Men's 400m Freestyle</td>\n",
       "      <td>NaN</td>\n",
       "      <td>NaN</td>\n",
       "    </tr>\n",
       "    <tr>\n",
       "      <th>7143</th>\n",
       "      <td>LAFONT Marie-Zelia</td>\n",
       "      <td>Female</td>\n",
       "      <td>34</td>\n",
       "      <td>France</td>\n",
       "      <td>Canoe Slalom</td>\n",
       "      <td>Women's Kayak</td>\n",
       "      <td>14.0</td>\n",
       "      <td>NaN</td>\n",
       "    </tr>\n",
       "    <tr>\n",
       "      <th>14249</th>\n",
       "      <td>WEGER Svenja</td>\n",
       "      <td>Female</td>\n",
       "      <td>27</td>\n",
       "      <td>Germany</td>\n",
       "      <td>Sailing</td>\n",
       "      <td>Women's One Person Dinghy - Laser Radial</td>\n",
       "      <td>16.0</td>\n",
       "      <td>NaN</td>\n",
       "    </tr>\n",
       "  </tbody>\n",
       "</table>\n",
       "</div>"
      ],
      "text/plain": [
       "                      Name  Gender  Age      Country         Sport  \\\n",
       "12931        TAMURA Norika  Female   30        Japan       Fencing   \n",
       "537    ANDRUSENKO Veronika  Female   30       Russia      Swimming   \n",
       "11017             REID Zac    Male   21  New Zealand      Swimming   \n",
       "7143    LAFONT Marie-Zelia  Female   34       France  Canoe Slalom   \n",
       "14249         WEGER Svenja  Female   27      Germany       Sailing   \n",
       "\n",
       "                                          Event  Rank Medal  \n",
       "12931                  Women's Sabre Individual  26.0   NaN  \n",
       "537       Women's 4 x 100m Freestyle Relay Team   NaN   NaN  \n",
       "11017                      Men's 400m Freestyle   NaN   NaN  \n",
       "7143                              Women's Kayak  14.0   NaN  \n",
       "14249  Women's One Person Dinghy - Laser Radial  16.0   NaN  "
      ]
     },
     "execution_count": 2,
     "metadata": {},
     "output_type": "execute_result"
    }
   ],
   "source": [
    "# Carreguem el dataset i eliminem columnes que no volem:\n",
    "\n",
    "olympics = pd.read_csv('/Users/deliagonzalezmata/Downloads/2020_Olympics_Dataset.csv', encoding = 'latin-1')\n",
    "\n",
    "olympics = olympics.drop('Unnamed: 0', 1)\n",
    "olympics = olympics.drop('Code', 1) # la columna Name conté els mateixos unics valors que Code\n",
    "olympics = olympics.drop('NOC', 1) #la columna Country conté la mateixa informació de forma més clara\n",
    "olympics = olympics.drop('Discipline', 1) #la columna Sport conté la mateixa informació de forma més clara\n",
    "\n",
    "olympics.sample(5)"
   ]
  },
  {
   "cell_type": "code",
   "execution_count": 3,
   "id": "b7e5ed46",
   "metadata": {},
   "outputs": [
    {
     "name": "stdout",
     "output_type": "stream",
     "text": [
      "<class 'pandas.core.frame.DataFrame'>\n",
      "RangeIndex: 15121 entries, 0 to 15120\n",
      "Data columns (total 8 columns):\n",
      " #   Column   Non-Null Count  Dtype  \n",
      "---  ------   --------------  -----  \n",
      " 0   Name     15121 non-null  object \n",
      " 1   Gender   15121 non-null  object \n",
      " 2   Age      15121 non-null  int64  \n",
      " 3   Country  15121 non-null  object \n",
      " 4   Sport    15121 non-null  object \n",
      " 5   Event    15121 non-null  object \n",
      " 6   Rank     11355 non-null  float64\n",
      " 7   Medal    2449 non-null   object \n",
      "dtypes: float64(1), int64(1), object(6)\n",
      "memory usage: 945.2+ KB\n"
     ]
    }
   ],
   "source": [
    "olympics.info()"
   ]
  },
  {
   "cell_type": "code",
   "execution_count": 4,
   "id": "960270ba",
   "metadata": {},
   "outputs": [
    {
     "data": {
      "text/html": [
       "<div>\n",
       "<style scoped>\n",
       "    .dataframe tbody tr th:only-of-type {\n",
       "        vertical-align: middle;\n",
       "    }\n",
       "\n",
       "    .dataframe tbody tr th {\n",
       "        vertical-align: top;\n",
       "    }\n",
       "\n",
       "    .dataframe thead th {\n",
       "        text-align: right;\n",
       "    }\n",
       "</style>\n",
       "<table border=\"1\" class=\"dataframe\">\n",
       "  <thead>\n",
       "    <tr style=\"text-align: right;\">\n",
       "      <th></th>\n",
       "      <th>Age</th>\n",
       "      <th>Rank</th>\n",
       "    </tr>\n",
       "  </thead>\n",
       "  <tbody>\n",
       "    <tr>\n",
       "      <th>count</th>\n",
       "      <td>15121.00</td>\n",
       "      <td>11355.00</td>\n",
       "    </tr>\n",
       "    <tr>\n",
       "      <th>mean</th>\n",
       "      <td>26.77</td>\n",
       "      <td>10.75</td>\n",
       "    </tr>\n",
       "    <tr>\n",
       "      <th>std</th>\n",
       "      <td>5.61</td>\n",
       "      <td>10.68</td>\n",
       "    </tr>\n",
       "    <tr>\n",
       "      <th>min</th>\n",
       "      <td>12.00</td>\n",
       "      <td>1.00</td>\n",
       "    </tr>\n",
       "    <tr>\n",
       "      <th>25%</th>\n",
       "      <td>23.00</td>\n",
       "      <td>4.00</td>\n",
       "    </tr>\n",
       "    <tr>\n",
       "      <th>50%</th>\n",
       "      <td>26.00</td>\n",
       "      <td>8.00</td>\n",
       "    </tr>\n",
       "    <tr>\n",
       "      <th>75%</th>\n",
       "      <td>30.00</td>\n",
       "      <td>13.00</td>\n",
       "    </tr>\n",
       "    <tr>\n",
       "      <th>max</th>\n",
       "      <td>66.00</td>\n",
       "      <td>85.00</td>\n",
       "    </tr>\n",
       "  </tbody>\n",
       "</table>\n",
       "</div>"
      ],
      "text/plain": [
       "            Age      Rank\n",
       "count  15121.00  11355.00\n",
       "mean      26.77     10.75\n",
       "std        5.61     10.68\n",
       "min       12.00      1.00\n",
       "25%       23.00      4.00\n",
       "50%       26.00      8.00\n",
       "75%       30.00     13.00\n",
       "max       66.00     85.00"
      ]
     },
     "execution_count": 4,
     "metadata": {},
     "output_type": "execute_result"
    }
   ],
   "source": [
    "round(olympics.describe(), 2)"
   ]
  },
  {
   "cell_type": "code",
   "execution_count": 5,
   "id": "e3954533",
   "metadata": {},
   "outputs": [
    {
     "data": {
      "text/plain": [
       "3766"
      ]
     },
     "execution_count": 5,
     "metadata": {},
     "output_type": "execute_result"
    }
   ],
   "source": [
    "olympics.Rank.isna().sum()"
   ]
  },
  {
   "cell_type": "markdown",
   "id": "9c8fac40",
   "metadata": {},
   "source": [
    "Amb la funció \"describe\" ja podem veure algunes dades interessants del nostre Dataset, com per exemple que l'atleta més jove té 12 anys vs. l'atleta més gran en té 66.\n",
    "També veiem que la Classificació va d' 1 fins a 85 i que hi ha 3.766 entrades sense classificació. "
   ]
  },
  {
   "cell_type": "code",
   "execution_count": 6,
   "id": "38d102a5",
   "metadata": {},
   "outputs": [
    {
     "data": {
      "image/png": "[encoded data removed]",
      "text/plain": [
       "<Figure size 1040x400 with 1 Axes>"
      ]
     },
     "metadata": {
      "needs_background": "light"
     },
     "output_type": "display_data"
    }
   ],
   "source": [
    "values=olympics.Age.value_counts().sort_index()\n",
    "\n",
    "#sns.set(style=\"darkgrid\")\n",
    "plt.figure(figsize=(13, 5), dpi=80)\n",
    "plt.xticks (range(11,67))\n",
    "sns.boxplot(x = olympics.Age, )\n",
    "plt.show()"
   ]
  },
  {
   "cell_type": "markdown",
   "id": "82055c23",
   "metadata": {},
   "source": [
    "Anem a generar informació d'aquelles columnes que no son numèriques (variables categòriques), per fer-nos una millor idea del que podem trobar en el nostre conjunt de dades: "
   ]
  },
  {
   "cell_type": "code",
   "execution_count": 7,
   "id": "603a06a4",
   "metadata": {},
   "outputs": [
    {
     "data": {
      "text/html": [
       "<div>\n",
       "<style scoped>\n",
       "    .dataframe tbody tr th:only-of-type {\n",
       "        vertical-align: middle;\n",
       "    }\n",
       "\n",
       "    .dataframe tbody tr th {\n",
       "        vertical-align: top;\n",
       "    }\n",
       "\n",
       "    .dataframe thead th {\n",
       "        text-align: right;\n",
       "    }\n",
       "</style>\n",
       "<table border=\"1\" class=\"dataframe\">\n",
       "  <thead>\n",
       "    <tr style=\"text-align: right;\">\n",
       "      <th></th>\n",
       "      <th>Gender</th>\n",
       "      <th>Country</th>\n",
       "      <th>Sport</th>\n",
       "      <th>Event</th>\n",
       "      <th>Medal</th>\n",
       "    </tr>\n",
       "  </thead>\n",
       "  <tbody>\n",
       "    <tr>\n",
       "      <th>count</th>\n",
       "      <td>15121</td>\n",
       "      <td>15121</td>\n",
       "      <td>15121</td>\n",
       "      <td>15121</td>\n",
       "      <td>2449</td>\n",
       "    </tr>\n",
       "    <tr>\n",
       "      <th>unique</th>\n",
       "      <td>2</td>\n",
       "      <td>206</td>\n",
       "      <td>46</td>\n",
       "      <td>306</td>\n",
       "      <td>3</td>\n",
       "    </tr>\n",
       "    <tr>\n",
       "      <th>top</th>\n",
       "      <td>Male</td>\n",
       "      <td>United States</td>\n",
       "      <td>Athletics</td>\n",
       "      <td>Men Team</td>\n",
       "      <td>Bronze</td>\n",
       "    </tr>\n",
       "    <tr>\n",
       "      <th>freq</th>\n",
       "      <td>7855</td>\n",
       "      <td>856</td>\n",
       "      <td>2318</td>\n",
       "      <td>1425</td>\n",
       "      <td>867</td>\n",
       "    </tr>\n",
       "  </tbody>\n",
       "</table>\n",
       "</div>"
      ],
      "text/plain": [
       "       Gender        Country      Sport     Event   Medal\n",
       "count   15121          15121      15121     15121    2449\n",
       "unique      2            206         46       306       3\n",
       "top      Male  United States  Athletics  Men Team  Bronze\n",
       "freq     7855            856       2318      1425     867"
      ]
     },
     "execution_count": 7,
     "metadata": {},
     "output_type": "execute_result"
    }
   ],
   "source": [
    "non_number = olympics [['Gender', 'Country', 'Sport', 'Event', 'Medal']]\n",
    "non_number.describe()"
   ]
  },
  {
   "cell_type": "markdown",
   "id": "cd6590dd",
   "metadata": {},
   "source": [
    "Aquí igualment la funció \"describe\" ens proporciona dades interessants sobre la nostra població, tals com: \n",
    "- han participat més homes que dones als Jocs Olímpics de Tokyo\n",
    "- el país que ha portat més atletes és Estats Units\n",
    "- l'esport on han participat més atletes és \"Athletics\"\n",
    "- extranyament, s'han donat més medalles de Bronze que de qualsevol altre metall."
   ]
  },
  {
   "cell_type": "markdown",
   "id": "2f28d5b0",
   "metadata": {},
   "source": [
    "#### Gender"
   ]
  },
  {
   "cell_type": "code",
   "execution_count": 8,
   "id": "0bffab1b",
   "metadata": {},
   "outputs": [
    {
     "data": {
      "text/plain": [
       "Male      7855\n",
       "Female    7266\n",
       "Name: Gender, dtype: int64"
      ]
     },
     "execution_count": 8,
     "metadata": {},
     "output_type": "execute_result"
    }
   ],
   "source": [
    "olympics.Gender.value_counts()"
   ]
  },
  {
   "cell_type": "code",
   "execution_count": 9,
   "id": "0c68a019",
   "metadata": {},
   "outputs": [
    {
     "data": {
      "image/png": "[encoded data removed]",
      "text/plain": [
       "<Figure size 432x288 with 1 Axes>"
      ]
     },
     "metadata": {},
     "output_type": "display_data"
    }
   ],
   "source": [
    "male = (7855 / 15121)*100\n",
    "female = (7266 / 15121)*100\n",
    "\n",
    "\n",
    "names = olympics.Gender.unique()\n",
    "size = [female, male]\n",
    "\n",
    "my_circle = plt.Circle( (0,0), 0.7, color='white')\n",
    "\n",
    "plt.pie(size, labels=names, colors=['salmon','skyblue'], autopct = '%.2f')\n",
    "p = plt.gcf()\n",
    "p.gca().add_artist(my_circle)\n",
    "\n",
    "plt.show()"
   ]
  },
  {
   "cell_type": "markdown",
   "id": "397edf87",
   "metadata": {},
   "source": [
    "#### Country "
   ]
  },
  {
   "cell_type": "markdown",
   "id": "4df4122b",
   "metadata": {},
   "source": [
    "Veiem els 20 països amb més atletes als JJ.OO. de Tokyo:"
   ]
  },
  {
   "cell_type": "code",
   "execution_count": 10,
   "id": "90eecbbc",
   "metadata": {},
   "outputs": [
    {
     "data": {
      "image/png": "[encoded data removed]",
      "text/plain": [
       "<Figure size 640x480 with 1 Axes>"
      ]
     },
     "metadata": {
      "needs_background": "light"
     },
     "output_type": "display_data"
    }
   ],
   "source": [
    "names = olympics.Country.value_counts()[:20].index.tolist()\n",
    "values=olympics.Country.value_counts()[:20].values.tolist()\n",
    "\n",
    "from matplotlib.pyplot import figure\n",
    "\n",
    "figure(figsize=(8, 6), dpi=80)\n",
    "\n",
    "\n",
    "# The horizontal plot is made using the hline function\n",
    "plt.hlines(y=names, xmin=0, xmax=values, color='skyblue')\n",
    "plt.plot(values, names, \"o\")\n",
    "plt.ylim(-1,20)\n",
    " \n",
    "# Add titles and axis names\n",
    "plt.yticks( names)\n",
    "plt.title(\"països amb més atletes\", loc='left')\n",
    "plt.xlabel('núm. atletess')\n",
    "plt.ylabel('País')\n",
    "\n",
    "# Show the plot\n",
    "plt.show()"
   ]
  },
  {
   "cell_type": "markdown",
   "id": "1726a74f",
   "metadata": {},
   "source": [
    "#### Sport"
   ]
  },
  {
   "cell_type": "code",
   "execution_count": 11,
   "id": "48b3c719",
   "metadata": {},
   "outputs": [
    {
     "data": {
      "text/plain": [
       "Athletics              2318\n",
       "Swimming               1634\n",
       "Artistic Gymnastics    1061\n",
       "Football                608\n",
       "Shooting                577\n",
       "Rowing                  526\n",
       "Judo                    516\n",
       "Hockey                  432\n",
       "Cycling Track           426\n",
       "Equestrian              420\n",
       "Name: Sport, dtype: int64"
      ]
     },
     "execution_count": 11,
     "metadata": {},
     "output_type": "execute_result"
    }
   ],
   "source": [
    "olympics.Sport.value_counts()[:10]"
   ]
  },
  {
   "cell_type": "code",
   "execution_count": 12,
   "id": "2ba5efff",
   "metadata": {},
   "outputs": [
    {
     "data": {
      "image/png": "[encoded data removed]",
      "text/plain": [
       "<Figure size 720x432 with 1 Axes>"
      ]
     },
     "metadata": {
      "needs_background": "light"
     },
     "output_type": "display_data"
    }
   ],
   "source": [
    "# Analitzem la diferència de gènere a cada esport mitjançant un gràfic:\n",
    "\n",
    "gender_by_sport = olympics.groupby(['Sport', 'Gender']).size()\n",
    "colors = [\"#69b3a2\", \"#4374B3\"]\n",
    "sns.set_palette(sns.color_palette(colors))\n",
    "gender_by_sport.unstack().plot(kind='bar', stacked=True, figsize=(10,6))\n",
    "\n",
    "plt.show()"
   ]
  },
  {
   "cell_type": "markdown",
   "id": "001809e0",
   "metadata": {},
   "source": [
    "#### Event\n",
    "\n",
    "Hem vist amb la funció describe que hi ha 306 diferents tipus d'Events. Veiem els 10 amb més participants:"
   ]
  },
  {
   "cell_type": "code",
   "execution_count": 13,
   "id": "96327f8e",
   "metadata": {},
   "outputs": [
    {
     "data": {
      "text/plain": [
       "Men Team              1425\n",
       "Women Team            1317\n",
       "Mixed Team             181\n",
       "Women's Singles        177\n",
       "Men's Singles          171\n",
       "Women's Individual     155\n",
       "Men's Individual       151\n",
       "Baseball Team          144\n",
       "Men's Team             132\n",
       "Women's Team           132\n",
       "Name: Event, dtype: int64"
      ]
     },
     "execution_count": 13,
     "metadata": {},
     "output_type": "execute_result"
    }
   ],
   "source": [
    "olympics.Event.value_counts()[:10]"
   ]
  },
  {
   "cell_type": "markdown",
   "id": "b4aa2035",
   "metadata": {},
   "source": [
    "#### Medal "
   ]
  },
  {
   "cell_type": "code",
   "execution_count": 14,
   "id": "7abe8398",
   "metadata": {},
   "outputs": [
    {
     "data": {
      "text/plain": [
       "array([nan, 'Gold', 'Silver', 'Bronze'], dtype=object)"
      ]
     },
     "execution_count": 14,
     "metadata": {},
     "output_type": "execute_result"
    }
   ],
   "source": [
    "olympics.Medal.unique()"
   ]
  },
  {
   "cell_type": "code",
   "execution_count": 15,
   "id": "1a76824b",
   "metadata": {},
   "outputs": [
    {
     "data": {
      "text/plain": [
       "Bronze    867\n",
       "Gold      800\n",
       "Silver    782\n",
       "Name: Medal, dtype: int64"
      ]
     },
     "execution_count": 15,
     "metadata": {},
     "output_type": "execute_result"
    }
   ],
   "source": [
    "olympics.Medal.value_counts()"
   ]
  },
  {
   "cell_type": "markdown",
   "id": "d4785472",
   "metadata": {},
   "source": [
    "### Mostra aleatoria Simple\n",
    "\n",
    "En un mostreig aleatori simple, tots els elements que formen la població tenen idèntica probabilitat de ser escollits per la mostra. És un procés equivalent a fer un sorteig. \n",
    "\n",
    "Hi ha dos tipus de mostreig aleatori simple:\n",
    "- amb reposició: quan un idndividu de la població pot ser escollit més d'1 vegada per formar part de la mostra.\n",
    "- sense reposició: quan un individu de la població NO pot aparèixer més d'un cop a la mostra. \n",
    "\n",
    "Atés que la mida de la nostra població (N) és bastant gran, es recomana fer mostreig aleatori simple amb reposició. és per això que dins la nostra mostra podriem trobar el mateix atleta repetit varies vegades. \n",
    "\n",
    "Un cop hem definit quin tipus de Mostreig realitzarem, hem de calcular el tamany òptim de la nostra mostra per a garantitzar que no se supera el marge d'error que desitgem (en aquest cas i el més comú és un 5%). "
   ]
  },
  {
   "cell_type": "code",
   "execution_count": 16,
   "id": "ebedcdd6",
   "metadata": {},
   "outputs": [
    {
     "data": {
      "text/plain": [
       "15121"
      ]
     },
     "execution_count": 16,
     "metadata": {},
     "output_type": "execute_result"
    }
   ],
   "source": [
    "# Mida de la població\n",
    "mida_poblacio = olympics.shape[0]\n",
    "mida_poblacio"
   ]
  },
  {
   "cell_type": "markdown",
   "id": "b3cb5803",
   "metadata": {},
   "source": [
    "**Mida de la mostra**: \n",
    "\n",
    "Per calcular el tamany òptim de la mostra sabem que existeix la fòrmula seguent: "
   ]
  },
  {
   "cell_type": "code",
   "execution_count": 17,
   "id": "08c7cf90",
   "metadata": {},
   "outputs": [
    {
     "data": {
      "image/png": "[encoded data removed]",
      "text/plain": [
       "<IPython.core.display.Image object>"
      ]
     },
     "execution_count": 17,
     "metadata": {
      "image/png": {
       "height": 100,
       "width": 100
      }
     },
     "output_type": "execute_result"
    }
   ],
   "source": [
    "from IPython import display\n",
    "display.Image(\"/Users/deliagonzalezmata/Desktop/tamany_mostra.png\", width=100, height=100)"
   ]
  },
  {
   "cell_type": "markdown",
   "id": "b3f1f254",
   "metadata": {},
   "source": [
    "on **n** és el tamany mostral,\n",
    "\n",
    "**N** el tamany de la població,\n",
    "\n",
    "**e** el marge d'error, que fixarem al 5%,\n",
    "\n",
    "**k** el Zscore donat un nivell de confiança(NC) que fixarem al 95% i, per tant, k = 1.96,\n",
    "\n",
    "**p** és la probabilitat d'èxit, que com que no la sabem la fixarem al 50%,\n",
    "\n",
    "i **q** és la probabilitat de fracàs. És a dir, 1-p."
   ]
  },
  {
   "cell_type": "code",
   "execution_count": 18,
   "id": "8583ae56",
   "metadata": {},
   "outputs": [
    {
     "data": {
      "text/plain": [
       "374.67"
      ]
     },
     "execution_count": 18,
     "metadata": {},
     "output_type": "execute_result"
    }
   ],
   "source": [
    "# Mida de la mostra\n",
    "\n",
    "N = mida_poblacio\n",
    "e = 0.05\n",
    "k = 1.96\n",
    "p = 0.5\n",
    "q = 1-p\n",
    "\n",
    "mida_mostra = (N*p*q*(k**2))/((e**2)*(N-1)+(k**2)*p*q)\n",
    "\n",
    "round(mida_mostra,2)"
   ]
  },
  {
   "cell_type": "code",
   "execution_count": 19,
   "id": "430a579f",
   "metadata": {},
   "outputs": [
    {
     "data": {
      "text/html": [
       "<div>\n",
       "<style scoped>\n",
       "    .dataframe tbody tr th:only-of-type {\n",
       "        vertical-align: middle;\n",
       "    }\n",
       "\n",
       "    .dataframe tbody tr th {\n",
       "        vertical-align: top;\n",
       "    }\n",
       "\n",
       "    .dataframe thead th {\n",
       "        text-align: right;\n",
       "    }\n",
       "</style>\n",
       "<table border=\"1\" class=\"dataframe\">\n",
       "  <thead>\n",
       "    <tr style=\"text-align: right;\">\n",
       "      <th></th>\n",
       "      <th>Name</th>\n",
       "      <th>Gender</th>\n",
       "      <th>Age</th>\n",
       "      <th>Country</th>\n",
       "      <th>Sport</th>\n",
       "      <th>Event</th>\n",
       "      <th>Rank</th>\n",
       "      <th>Medal</th>\n",
       "    </tr>\n",
       "  </thead>\n",
       "  <tbody>\n",
       "    <tr>\n",
       "      <th>12430</th>\n",
       "      <td>SOGHOMONYAN Koryun</td>\n",
       "      <td>Male</td>\n",
       "      <td>28</td>\n",
       "      <td>Armenia</td>\n",
       "      <td>Boxing</td>\n",
       "      <td>Men's Fly (48-52kg)</td>\n",
       "      <td>17.0</td>\n",
       "      <td>NaN</td>\n",
       "    </tr>\n",
       "    <tr>\n",
       "      <th>8748</th>\n",
       "      <td>MIKULAK Samuel</td>\n",
       "      <td>Male</td>\n",
       "      <td>28</td>\n",
       "      <td>United States</td>\n",
       "      <td>Artistic Gymnastics</td>\n",
       "      <td>Men's Rings</td>\n",
       "      <td>NaN</td>\n",
       "      <td>NaN</td>\n",
       "    </tr>\n",
       "    <tr>\n",
       "      <th>9936</th>\n",
       "      <td>OTOGBE Mawupemon</td>\n",
       "      <td>Male</td>\n",
       "      <td>18</td>\n",
       "      <td>Togo</td>\n",
       "      <td>Swimming</td>\n",
       "      <td>Men's 50m Freestyle</td>\n",
       "      <td>NaN</td>\n",
       "      <td>NaN</td>\n",
       "    </tr>\n",
       "    <tr>\n",
       "      <th>12581</th>\n",
       "      <td>STANCO Silvana</td>\n",
       "      <td>Female</td>\n",
       "      <td>28</td>\n",
       "      <td>Italy</td>\n",
       "      <td>Shooting</td>\n",
       "      <td>Trap Women</td>\n",
       "      <td>5.0</td>\n",
       "      <td>NaN</td>\n",
       "    </tr>\n",
       "    <tr>\n",
       "      <th>3979</th>\n",
       "      <td>FORDE Brooke</td>\n",
       "      <td>Female</td>\n",
       "      <td>22</td>\n",
       "      <td>United States</td>\n",
       "      <td>Swimming</td>\n",
       "      <td>Women's 4 x 200m Freestyle Relay Team</td>\n",
       "      <td>2.0</td>\n",
       "      <td>Silver</td>\n",
       "    </tr>\n",
       "    <tr>\n",
       "      <th>...</th>\n",
       "      <td>...</td>\n",
       "      <td>...</td>\n",
       "      <td>...</td>\n",
       "      <td>...</td>\n",
       "      <td>...</td>\n",
       "      <td>...</td>\n",
       "      <td>...</td>\n",
       "      <td>...</td>\n",
       "    </tr>\n",
       "    <tr>\n",
       "      <th>13518</th>\n",
       "      <td>TYACK Ryan</td>\n",
       "      <td>Male</td>\n",
       "      <td>30</td>\n",
       "      <td>Australia</td>\n",
       "      <td>Archery</td>\n",
       "      <td>Men's Team</td>\n",
       "      <td>9.0</td>\n",
       "      <td>NaN</td>\n",
       "    </tr>\n",
       "    <tr>\n",
       "      <th>6848</th>\n",
       "      <td>KORA Salome</td>\n",
       "      <td>Female</td>\n",
       "      <td>27</td>\n",
       "      <td>Switzerland</td>\n",
       "      <td>Athletics</td>\n",
       "      <td>Women's 4 x 100m Relay Team</td>\n",
       "      <td>4.0</td>\n",
       "      <td>NaN</td>\n",
       "    </tr>\n",
       "    <tr>\n",
       "      <th>3288</th>\n",
       "      <td>DOO Hoi Kem</td>\n",
       "      <td>Female</td>\n",
       "      <td>24</td>\n",
       "      <td>Hong Kong, China</td>\n",
       "      <td>Table Tennis</td>\n",
       "      <td>Women's Singles</td>\n",
       "      <td>5.0</td>\n",
       "      <td>NaN</td>\n",
       "    </tr>\n",
       "    <tr>\n",
       "      <th>1547</th>\n",
       "      <td>BORGES Felipe</td>\n",
       "      <td>Male</td>\n",
       "      <td>36</td>\n",
       "      <td>Brazil</td>\n",
       "      <td>Handball</td>\n",
       "      <td>Men Team</td>\n",
       "      <td>10.0</td>\n",
       "      <td>NaN</td>\n",
       "    </tr>\n",
       "    <tr>\n",
       "      <th>8339</th>\n",
       "      <td>MATSUSHITA Momotaro</td>\n",
       "      <td>Male</td>\n",
       "      <td>33</td>\n",
       "      <td>Japan</td>\n",
       "      <td>Canoe Sprint</td>\n",
       "      <td>Men's Kayak Single 200m</td>\n",
       "      <td>16.0</td>\n",
       "      <td>NaN</td>\n",
       "    </tr>\n",
       "  </tbody>\n",
       "</table>\n",
       "<p>375 rows × 8 columns</p>\n",
       "</div>"
      ],
      "text/plain": [
       "                      Name  Gender  Age           Country  \\\n",
       "12430   SOGHOMONYAN Koryun    Male   28           Armenia   \n",
       "8748        MIKULAK Samuel    Male   28     United States   \n",
       "9936      OTOGBE Mawupemon    Male   18              Togo   \n",
       "12581       STANCO Silvana  Female   28             Italy   \n",
       "3979          FORDE Brooke  Female   22     United States   \n",
       "...                    ...     ...  ...               ...   \n",
       "13518           TYACK Ryan    Male   30         Australia   \n",
       "6848           KORA Salome  Female   27       Switzerland   \n",
       "3288           DOO Hoi Kem  Female   24  Hong Kong, China   \n",
       "1547         BORGES Felipe    Male   36            Brazil   \n",
       "8339   MATSUSHITA Momotaro    Male   33             Japan   \n",
       "\n",
       "                     Sport                                  Event  Rank  \\\n",
       "12430               Boxing                    Men's Fly (48-52kg)  17.0   \n",
       "8748   Artistic Gymnastics                            Men's Rings   NaN   \n",
       "9936              Swimming                    Men's 50m Freestyle   NaN   \n",
       "12581             Shooting                             Trap Women   5.0   \n",
       "3979              Swimming  Women's 4 x 200m Freestyle Relay Team   2.0   \n",
       "...                    ...                                    ...   ...   \n",
       "13518              Archery                             Men's Team   9.0   \n",
       "6848             Athletics            Women's 4 x 100m Relay Team   4.0   \n",
       "3288          Table Tennis                        Women's Singles   5.0   \n",
       "1547              Handball                               Men Team  10.0   \n",
       "8339          Canoe Sprint                Men's Kayak Single 200m  16.0   \n",
       "\n",
       "        Medal  \n",
       "12430     NaN  \n",
       "8748      NaN  \n",
       "9936      NaN  \n",
       "12581     NaN  \n",
       "3979   Silver  \n",
       "...       ...  \n",
       "13518     NaN  \n",
       "6848      NaN  \n",
       "3288      NaN  \n",
       "1547      NaN  \n",
       "8339      NaN  \n",
       "\n",
       "[375 rows x 8 columns]"
      ]
     },
     "execution_count": 19,
     "metadata": {},
     "output_type": "execute_result"
    }
   ],
   "source": [
    "# Generem una mostra aleatòria simple (MAS)\n",
    "n = 375\n",
    "MAS = olympics.sample(n=n)\n",
    "MAS"
   ]
  },
  {
   "cell_type": "markdown",
   "id": "f51c4104",
   "metadata": {},
   "source": [
    "### Mostra aleatoria Sistemàtica\n",
    "\n",
    "Consisteix en escollir un individu inicial de forma aleatoria entre la població i, a continuació, escollir els individus restants mitjançant la successió aritmètica a partir del 1r individu escollit. \n",
    "\n",
    "si **A** és la posició que ocupa el primer individu dins la població, podem calcular la resta d'individus que formaran també part de la mostra de la següent forma: \n",
    "\n",
    "* A, A+K, A+2K, A+3K, ...., A+(n-1)K.\n",
    "\n",
    "on **K** és el coeficient d'elevació o interval i que, alhora, podem calcular de la següent forma: \n",
    "\n",
    "* K = N / n \n",
    "\n",
    "on **N** és el tamany de la població i **n** el tamany de la mostra"
   ]
  },
  {
   "cell_type": "code",
   "execution_count": 20,
   "id": "9305833d",
   "metadata": {},
   "outputs": [
    {
     "data": {
      "text/plain": [
       "40"
      ]
     },
     "execution_count": 20,
     "metadata": {},
     "output_type": "execute_result"
    }
   ],
   "source": [
    "# definim interval K:\n",
    "\n",
    "K = int(N/n)\n",
    "K "
   ]
  },
  {
   "cell_type": "markdown",
   "id": "09b19ed4",
   "metadata": {},
   "source": [
    "Això ens indica que el primer individu de la mostra ha d'estar entre la posició 1 i 40 de la població i, a partir d'aquí anar sumant de 40 en 40 fins a trobar-los tots. "
   ]
  },
  {
   "cell_type": "code",
   "execution_count": 21,
   "id": "896820f6",
   "metadata": {},
   "outputs": [
    {
     "data": {
      "text/html": [
       "<div>\n",
       "<style scoped>\n",
       "    .dataframe tbody tr th:only-of-type {\n",
       "        vertical-align: middle;\n",
       "    }\n",
       "\n",
       "    .dataframe tbody tr th {\n",
       "        vertical-align: top;\n",
       "    }\n",
       "\n",
       "    .dataframe thead th {\n",
       "        text-align: right;\n",
       "    }\n",
       "</style>\n",
       "<table border=\"1\" class=\"dataframe\">\n",
       "  <thead>\n",
       "    <tr style=\"text-align: right;\">\n",
       "      <th></th>\n",
       "      <th>Name</th>\n",
       "      <th>Gender</th>\n",
       "      <th>Age</th>\n",
       "      <th>Country</th>\n",
       "      <th>Sport</th>\n",
       "      <th>Event</th>\n",
       "      <th>Rank</th>\n",
       "      <th>Medal</th>\n",
       "    </tr>\n",
       "  </thead>\n",
       "  <tbody>\n",
       "    <tr>\n",
       "      <th>36</th>\n",
       "      <td>ABDELSALAM Nour</td>\n",
       "      <td>Female</td>\n",
       "      <td>28</td>\n",
       "      <td>Egypt</td>\n",
       "      <td>Taekwondo</td>\n",
       "      <td>Women -49kg</td>\n",
       "      <td>11.0</td>\n",
       "      <td>NaN</td>\n",
       "    </tr>\n",
       "    <tr>\n",
       "      <th>76</th>\n",
       "      <td>ABELVIK ROED Magnus</td>\n",
       "      <td>Male</td>\n",
       "      <td>24</td>\n",
       "      <td>Norway</td>\n",
       "      <td>Handball</td>\n",
       "      <td>Men Team</td>\n",
       "      <td>7.0</td>\n",
       "      <td>NaN</td>\n",
       "    </tr>\n",
       "    <tr>\n",
       "      <th>116</th>\n",
       "      <td>ACHIUWA Precious</td>\n",
       "      <td>Male</td>\n",
       "      <td>21</td>\n",
       "      <td>Nigeria</td>\n",
       "      <td>Basketball</td>\n",
       "      <td>Men Team</td>\n",
       "      <td>10.0</td>\n",
       "      <td>NaN</td>\n",
       "    </tr>\n",
       "    <tr>\n",
       "      <th>156</th>\n",
       "      <td>AFANADOR Brian</td>\n",
       "      <td>Male</td>\n",
       "      <td>24</td>\n",
       "      <td>Puerto Rico</td>\n",
       "      <td>Table Tennis</td>\n",
       "      <td>Men's Singles</td>\n",
       "      <td>49.0</td>\n",
       "      <td>NaN</td>\n",
       "    </tr>\n",
       "    <tr>\n",
       "      <th>196</th>\n",
       "      <td>AHMED Enas</td>\n",
       "      <td>Female</td>\n",
       "      <td>32</td>\n",
       "      <td>Egypt</td>\n",
       "      <td>Wrestling</td>\n",
       "      <td>Women's Freestyle 68kg</td>\n",
       "      <td>14.0</td>\n",
       "      <td>NaN</td>\n",
       "    </tr>\n",
       "    <tr>\n",
       "      <th>...</th>\n",
       "      <td>...</td>\n",
       "      <td>...</td>\n",
       "      <td>...</td>\n",
       "      <td>...</td>\n",
       "      <td>...</td>\n",
       "      <td>...</td>\n",
       "      <td>...</td>\n",
       "      <td>...</td>\n",
       "    </tr>\n",
       "    <tr>\n",
       "      <th>14956</th>\n",
       "      <td>ZEID Josh</td>\n",
       "      <td>Male</td>\n",
       "      <td>34</td>\n",
       "      <td>Israel</td>\n",
       "      <td>Baseball/Softball</td>\n",
       "      <td>Baseball Team</td>\n",
       "      <td>5.0</td>\n",
       "      <td>NaN</td>\n",
       "    </tr>\n",
       "    <tr>\n",
       "      <th>14996</th>\n",
       "      <td>ZHANG Jin</td>\n",
       "      <td>Female</td>\n",
       "      <td>20</td>\n",
       "      <td>China</td>\n",
       "      <td>Artistic Gymnastics</td>\n",
       "      <td>Women's Uneven Bars</td>\n",
       "      <td>NaN</td>\n",
       "      <td>NaN</td>\n",
       "    </tr>\n",
       "    <tr>\n",
       "      <th>15036</th>\n",
       "      <td>ZHAO Zhonghao</td>\n",
       "      <td>Male</td>\n",
       "      <td>26</td>\n",
       "      <td>China</td>\n",
       "      <td>Shooting</td>\n",
       "      <td>50m Rifle 3 Positions Men</td>\n",
       "      <td>11.0</td>\n",
       "      <td>NaN</td>\n",
       "    </tr>\n",
       "    <tr>\n",
       "      <th>15076</th>\n",
       "      <td>ZIRK Kregor</td>\n",
       "      <td>Male</td>\n",
       "      <td>22</td>\n",
       "      <td>Estonia</td>\n",
       "      <td>Swimming</td>\n",
       "      <td>Men's 400m Freestyle</td>\n",
       "      <td>NaN</td>\n",
       "      <td>NaN</td>\n",
       "    </tr>\n",
       "    <tr>\n",
       "      <th>15116</th>\n",
       "      <td>ZWOLINSKA Klaudia</td>\n",
       "      <td>Female</td>\n",
       "      <td>22</td>\n",
       "      <td>Poland</td>\n",
       "      <td>Canoe Slalom</td>\n",
       "      <td>Women's Kayak</td>\n",
       "      <td>5.0</td>\n",
       "      <td>NaN</td>\n",
       "    </tr>\n",
       "  </tbody>\n",
       "</table>\n",
       "<p>378 rows × 8 columns</p>\n",
       "</div>"
      ],
      "text/plain": [
       "                      Name  Gender  Age      Country                Sport  \\\n",
       "36         ABDELSALAM Nour  Female   28        Egypt            Taekwondo   \n",
       "76     ABELVIK ROED Magnus    Male   24       Norway             Handball   \n",
       "116       ACHIUWA Precious    Male   21      Nigeria           Basketball   \n",
       "156         AFANADOR Brian    Male   24  Puerto Rico         Table Tennis   \n",
       "196             AHMED Enas  Female   32        Egypt            Wrestling   \n",
       "...                    ...     ...  ...          ...                  ...   \n",
       "14956            ZEID Josh    Male   34       Israel    Baseball/Softball   \n",
       "14996            ZHANG Jin  Female   20        China  Artistic Gymnastics   \n",
       "15036        ZHAO Zhonghao    Male   26        China             Shooting   \n",
       "15076          ZIRK Kregor    Male   22      Estonia             Swimming   \n",
       "15116    ZWOLINSKA Klaudia  Female   22       Poland         Canoe Slalom   \n",
       "\n",
       "                           Event  Rank Medal  \n",
       "36                   Women -49kg  11.0   NaN  \n",
       "76                      Men Team   7.0   NaN  \n",
       "116                     Men Team  10.0   NaN  \n",
       "156                Men's Singles  49.0   NaN  \n",
       "196       Women's Freestyle 68kg  14.0   NaN  \n",
       "...                          ...   ...   ...  \n",
       "14956              Baseball Team   5.0   NaN  \n",
       "14996        Women's Uneven Bars   NaN   NaN  \n",
       "15036  50m Rifle 3 Positions Men  11.0   NaN  \n",
       "15076       Men's 400m Freestyle   NaN   NaN  \n",
       "15116              Women's Kayak   5.0   NaN  \n",
       "\n",
       "[378 rows x 8 columns]"
      ]
     },
     "execution_count": 21,
     "metadata": {},
     "output_type": "execute_result"
    }
   ],
   "source": [
    "# 1r individu aleatori\n",
    "A = np.random.randint(0, K)\n",
    "\n",
    "#resta d'individus:\n",
    "mostra_sistematica = olympics[A:N:K]\n",
    "mostra_sistematica"
   ]
  },
  {
   "cell_type": "markdown",
   "id": "fd38edaa",
   "metadata": {},
   "source": [
    "### Exercici 2: Continua amb el conjunt de dades de tema esportiu i genera una mostra estratificada i una mostra utilitzant SMOTE (Synthetic Minority Oversampling Technique)."
   ]
  },
  {
   "cell_type": "markdown",
   "id": "77d23977",
   "metadata": {},
   "source": [
    "### Mostra aleatoria Estratificada\n",
    "\n",
    "Aquesta tècnica, abans de començar el procés de mostreig divideix tota la població en diferents subpoblacions o estrats. \n",
    "\n",
    "- Cada individu només pot pertanyer a un estrat.\n",
    "- Els estrats solen ser grups homogenis d'individus, que al mateix temps son heterogenis entre diferents grups. Per exemple, definir els Estrats per sexe, edat, classe social, religió, zona geogràfica, etc.\n",
    "\n",
    "Un cop definits els estrats i els individus que pertanyen a cada estrat, la mostra es crea seleccionant per separat individus de cada estrat, empleant la tècnica de mostreig aleatori simple. \n",
    "\n",
    "En aquest cas, definirem els estrats en funció del Gènere. Per tant, generarem una mostra de tamany n=374, que idealment tindrà el mateix número d'homes que de dones."
   ]
  },
  {
   "cell_type": "code",
   "execution_count": 22,
   "id": "32458ecc",
   "metadata": {},
   "outputs": [
    {
     "data": {
      "text/html": [
       "<div>\n",
       "<style scoped>\n",
       "    .dataframe tbody tr th:only-of-type {\n",
       "        vertical-align: middle;\n",
       "    }\n",
       "\n",
       "    .dataframe tbody tr th {\n",
       "        vertical-align: top;\n",
       "    }\n",
       "\n",
       "    .dataframe thead th {\n",
       "        text-align: right;\n",
       "    }\n",
       "</style>\n",
       "<table border=\"1\" class=\"dataframe\">\n",
       "  <thead>\n",
       "    <tr style=\"text-align: right;\">\n",
       "      <th></th>\n",
       "      <th>Name</th>\n",
       "      <th>Gender</th>\n",
       "      <th>Age</th>\n",
       "      <th>Country</th>\n",
       "      <th>Sport</th>\n",
       "      <th>Event</th>\n",
       "      <th>Rank</th>\n",
       "      <th>Medal</th>\n",
       "    </tr>\n",
       "  </thead>\n",
       "  <tbody>\n",
       "    <tr>\n",
       "      <th>2519</th>\n",
       "      <td>COATANEA Pauline</td>\n",
       "      <td>Female</td>\n",
       "      <td>28</td>\n",
       "      <td>France</td>\n",
       "      <td>Handball</td>\n",
       "      <td>Women Team</td>\n",
       "      <td>1.0</td>\n",
       "      <td>Gold</td>\n",
       "    </tr>\n",
       "    <tr>\n",
       "      <th>7731</th>\n",
       "      <td>LONGHI Giulia</td>\n",
       "      <td>Female</td>\n",
       "      <td>28</td>\n",
       "      <td>Italy</td>\n",
       "      <td>Baseball/Softball</td>\n",
       "      <td>Softball Team</td>\n",
       "      <td>6.0</td>\n",
       "      <td>NaN</td>\n",
       "    </tr>\n",
       "    <tr>\n",
       "      <th>11270</th>\n",
       "      <td>ROOSKRANTZ Caitlin</td>\n",
       "      <td>Female</td>\n",
       "      <td>19</td>\n",
       "      <td>South Africa</td>\n",
       "      <td>Artistic Gymnastics</td>\n",
       "      <td>Women's All-Around</td>\n",
       "      <td>NaN</td>\n",
       "      <td>NaN</td>\n",
       "    </tr>\n",
       "    <tr>\n",
       "      <th>9775</th>\n",
       "      <td>OLEKSIAK Penny</td>\n",
       "      <td>Female</td>\n",
       "      <td>21</td>\n",
       "      <td>Canada</td>\n",
       "      <td>Swimming</td>\n",
       "      <td>Women's 4 x 100m Medley Relay Team</td>\n",
       "      <td>3.0</td>\n",
       "      <td>Bronze</td>\n",
       "    </tr>\n",
       "    <tr>\n",
       "      <th>12479</th>\n",
       "      <td>SORRIBES TORMO Sara</td>\n",
       "      <td>Female</td>\n",
       "      <td>24</td>\n",
       "      <td>Spain</td>\n",
       "      <td>Tennis</td>\n",
       "      <td>Women's Singles</td>\n",
       "      <td>9.0</td>\n",
       "      <td>NaN</td>\n",
       "    </tr>\n",
       "    <tr>\n",
       "      <th>...</th>\n",
       "      <td>...</td>\n",
       "      <td>...</td>\n",
       "      <td>...</td>\n",
       "      <td>...</td>\n",
       "      <td>...</td>\n",
       "      <td>...</td>\n",
       "      <td>...</td>\n",
       "      <td>...</td>\n",
       "    </tr>\n",
       "    <tr>\n",
       "      <th>6904</th>\n",
       "      <td>KOVACS Benedek</td>\n",
       "      <td>Male</td>\n",
       "      <td>23</td>\n",
       "      <td>Hungary</td>\n",
       "      <td>Swimming</td>\n",
       "      <td>Mixed 4 x 100m Medley Relay Team</td>\n",
       "      <td>NaN</td>\n",
       "      <td>NaN</td>\n",
       "    </tr>\n",
       "    <tr>\n",
       "      <th>1441</th>\n",
       "      <td>BOATENG Bismark</td>\n",
       "      <td>Male</td>\n",
       "      <td>29</td>\n",
       "      <td>Canada</td>\n",
       "      <td>Athletics</td>\n",
       "      <td>Men's 4 x 100m Relay Team</td>\n",
       "      <td>3.0</td>\n",
       "      <td>Bronze</td>\n",
       "    </tr>\n",
       "    <tr>\n",
       "      <th>8723</th>\n",
       "      <td>MIGUEL Aveni</td>\n",
       "      <td>Male</td>\n",
       "      <td>18</td>\n",
       "      <td>Angola</td>\n",
       "      <td>Athletics</td>\n",
       "      <td>Men's 100m</td>\n",
       "      <td>NaN</td>\n",
       "      <td>NaN</td>\n",
       "    </tr>\n",
       "    <tr>\n",
       "      <th>3081</th>\n",
       "      <td>DENDY Marquis</td>\n",
       "      <td>Male</td>\n",
       "      <td>28</td>\n",
       "      <td>United States</td>\n",
       "      <td>Athletics</td>\n",
       "      <td>Men's Long Jump</td>\n",
       "      <td>NaN</td>\n",
       "      <td>NaN</td>\n",
       "    </tr>\n",
       "    <tr>\n",
       "      <th>928</th>\n",
       "      <td>BALTACI Ozkan</td>\n",
       "      <td>Male</td>\n",
       "      <td>27</td>\n",
       "      <td>Turkey</td>\n",
       "      <td>Athletics</td>\n",
       "      <td>Men's Hammer Throw</td>\n",
       "      <td>NaN</td>\n",
       "      <td>NaN</td>\n",
       "    </tr>\n",
       "  </tbody>\n",
       "</table>\n",
       "<p>374 rows × 8 columns</p>\n",
       "</div>"
      ],
      "text/plain": [
       "                      Name  Gender  Age        Country                Sport  \\\n",
       "2519      COATANEA Pauline  Female   28         France             Handball   \n",
       "7731         LONGHI Giulia  Female   28          Italy    Baseball/Softball   \n",
       "11270   ROOSKRANTZ Caitlin  Female   19   South Africa  Artistic Gymnastics   \n",
       "9775        OLEKSIAK Penny  Female   21         Canada             Swimming   \n",
       "12479  SORRIBES TORMO Sara  Female   24          Spain               Tennis   \n",
       "...                    ...     ...  ...            ...                  ...   \n",
       "6904        KOVACS Benedek    Male   23        Hungary             Swimming   \n",
       "1441       BOATENG Bismark    Male   29         Canada            Athletics   \n",
       "8723          MIGUEL Aveni    Male   18         Angola            Athletics   \n",
       "3081         DENDY Marquis    Male   28  United States            Athletics   \n",
       "928          BALTACI Ozkan    Male   27         Turkey            Athletics   \n",
       "\n",
       "                                    Event  Rank   Medal  \n",
       "2519                           Women Team   1.0    Gold  \n",
       "7731                        Softball Team   6.0     NaN  \n",
       "11270                  Women's All-Around   NaN     NaN  \n",
       "9775   Women's 4 x 100m Medley Relay Team   3.0  Bronze  \n",
       "12479                     Women's Singles   9.0     NaN  \n",
       "...                                   ...   ...     ...  \n",
       "6904     Mixed 4 x 100m Medley Relay Team   NaN     NaN  \n",
       "1441            Men's 4 x 100m Relay Team   3.0  Bronze  \n",
       "8723                           Men's 100m   NaN     NaN  \n",
       "3081                      Men's Long Jump   NaN     NaN  \n",
       "928                    Men's Hammer Throw   NaN     NaN  \n",
       "\n",
       "[374 rows x 8 columns]"
      ]
     },
     "execution_count": 22,
     "metadata": {},
     "output_type": "execute_result"
    }
   ],
   "source": [
    "mostra_estratificada = olympics.groupby('Gender', group_keys=False).apply(lambda x: x.sample(int(374/2)))\n",
    "mostra_estratificada"
   ]
  },
  {
   "cell_type": "markdown",
   "id": "70fb45db",
   "metadata": {},
   "source": [
    "comprovem que efectivament la mostra aleatoria ha tingut en compte 50% d'homes i 50% dones:"
   ]
  },
  {
   "cell_type": "code",
   "execution_count": 23,
   "id": "b3bc3d92",
   "metadata": {},
   "outputs": [
    {
     "data": {
      "text/plain": [
       "Female    187\n",
       "Male      187\n",
       "Name: Gender, dtype: int64"
      ]
     },
     "execution_count": 23,
     "metadata": {},
     "output_type": "execute_result"
    }
   ],
   "source": [
    "mostra_estratificada.Gender.value_counts()"
   ]
  },
  {
   "cell_type": "markdown",
   "id": "92f5ade9",
   "metadata": {},
   "source": [
    "### SMOTE (Synthetic Minority Oversampling Technique)\n",
    "\n",
    "Per realitzar el mostreig amb la tècnica SMOTE hem dividit l'edat dels atletes en 2 subgrups en una nova columna \"grup_edat\" i amb els següents codis: \n",
    "- assignem **0** a aquells atletes amb 30 anys o menys.\n",
    "- assignem **1** a aquells atletes amb més de 30 anys."
   ]
  },
  {
   "cell_type": "code",
   "execution_count": 24,
   "id": "ee120aeb",
   "metadata": {},
   "outputs": [
    {
     "data": {
      "text/html": [
       "<div>\n",
       "<style scoped>\n",
       "    .dataframe tbody tr th:only-of-type {\n",
       "        vertical-align: middle;\n",
       "    }\n",
       "\n",
       "    .dataframe tbody tr th {\n",
       "        vertical-align: top;\n",
       "    }\n",
       "\n",
       "    .dataframe thead th {\n",
       "        text-align: right;\n",
       "    }\n",
       "</style>\n",
       "<table border=\"1\" class=\"dataframe\">\n",
       "  <thead>\n",
       "    <tr style=\"text-align: right;\">\n",
       "      <th></th>\n",
       "      <th>Name</th>\n",
       "      <th>Gender</th>\n",
       "      <th>Age</th>\n",
       "      <th>Country</th>\n",
       "      <th>Sport</th>\n",
       "      <th>Event</th>\n",
       "      <th>Rank</th>\n",
       "      <th>Medal</th>\n",
       "      <th>grup_edat</th>\n",
       "    </tr>\n",
       "  </thead>\n",
       "  <tbody>\n",
       "    <tr>\n",
       "      <th>0</th>\n",
       "      <td>AALERUD Katrine</td>\n",
       "      <td>Female</td>\n",
       "      <td>26</td>\n",
       "      <td>Norway</td>\n",
       "      <td>Cycling Road</td>\n",
       "      <td>Women's Road Race</td>\n",
       "      <td>37.0</td>\n",
       "      <td>NaN</td>\n",
       "      <td>0</td>\n",
       "    </tr>\n",
       "    <tr>\n",
       "      <th>1</th>\n",
       "      <td>AALERUD Katrine</td>\n",
       "      <td>Female</td>\n",
       "      <td>26</td>\n",
       "      <td>Norway</td>\n",
       "      <td>Cycling Road</td>\n",
       "      <td>Women's Individual Time Trial</td>\n",
       "      <td>20.0</td>\n",
       "      <td>NaN</td>\n",
       "      <td>0</td>\n",
       "    </tr>\n",
       "    <tr>\n",
       "      <th>2</th>\n",
       "      <td>ABAD Nestor</td>\n",
       "      <td>Male</td>\n",
       "      <td>28</td>\n",
       "      <td>Spain</td>\n",
       "      <td>Artistic Gymnastics</td>\n",
       "      <td>Men's All-Around</td>\n",
       "      <td>NaN</td>\n",
       "      <td>NaN</td>\n",
       "      <td>0</td>\n",
       "    </tr>\n",
       "    <tr>\n",
       "      <th>3</th>\n",
       "      <td>ABAD Nestor</td>\n",
       "      <td>Male</td>\n",
       "      <td>28</td>\n",
       "      <td>Spain</td>\n",
       "      <td>Artistic Gymnastics</td>\n",
       "      <td>Men's Floor Exercise</td>\n",
       "      <td>NaN</td>\n",
       "      <td>NaN</td>\n",
       "      <td>0</td>\n",
       "    </tr>\n",
       "    <tr>\n",
       "      <th>4</th>\n",
       "      <td>ABAD Nestor</td>\n",
       "      <td>Male</td>\n",
       "      <td>28</td>\n",
       "      <td>Spain</td>\n",
       "      <td>Artistic Gymnastics</td>\n",
       "      <td>Men's Pommel Horse</td>\n",
       "      <td>NaN</td>\n",
       "      <td>NaN</td>\n",
       "      <td>0</td>\n",
       "    </tr>\n",
       "  </tbody>\n",
       "</table>\n",
       "</div>"
      ],
      "text/plain": [
       "              Name  Gender  Age Country                Sport  \\\n",
       "0  AALERUD Katrine  Female   26  Norway         Cycling Road   \n",
       "1  AALERUD Katrine  Female   26  Norway         Cycling Road   \n",
       "2      ABAD Nestor    Male   28   Spain  Artistic Gymnastics   \n",
       "3      ABAD Nestor    Male   28   Spain  Artistic Gymnastics   \n",
       "4      ABAD Nestor    Male   28   Spain  Artistic Gymnastics   \n",
       "\n",
       "                           Event  Rank Medal  grup_edat  \n",
       "0              Women's Road Race  37.0   NaN          0  \n",
       "1  Women's Individual Time Trial  20.0   NaN          0  \n",
       "2               Men's All-Around   NaN   NaN          0  \n",
       "3           Men's Floor Exercise   NaN   NaN          0  \n",
       "4             Men's Pommel Horse   NaN   NaN          0  "
      ]
     },
     "execution_count": 24,
     "metadata": {},
     "output_type": "execute_result"
    }
   ],
   "source": [
    "olympics['grup_edat'] = [0 if x <= 30 else 1 for x in olympics.Age]\n",
    "olympics.head()"
   ]
  },
  {
   "cell_type": "markdown",
   "id": "19ef8759",
   "metadata": {},
   "source": [
    "Un cop tenim els 2 grups d'edat, veiem en un gràfic quina és la representació de cada un dels grups (menors de 30 i majors de 30) dins la nostra població/dataset i observarem que hi ha una gran diferència entre la quantitat d'individus d'un grup i de l'altre."
   ]
  },
  {
   "cell_type": "code",
   "execution_count": 25,
   "id": "6e476fd1",
   "metadata": {},
   "outputs": [
    {
     "data": {
      "text/plain": [
       "0    11870\n",
       "1     3251\n",
       "Name: grup_edat, dtype: int64"
      ]
     },
     "execution_count": 25,
     "metadata": {},
     "output_type": "execute_result"
    }
   ],
   "source": [
    "olympics.grup_edat.value_counts()"
   ]
  },
  {
   "cell_type": "code",
   "execution_count": 26,
   "id": "8a9e1eb8",
   "metadata": {},
   "outputs": [
    {
     "data": {
      "image/png": "[encoded data removed]",
      "text/plain": [
       "<Figure size 432x288 with 1 Axes>"
      ]
     },
     "metadata": {
      "needs_background": "light"
     },
     "output_type": "display_data"
    }
   ],
   "source": [
    "sns.countplot(data = olympics, x='grup_edat')\n",
    "plt.xticks([0,1], ['<= 30', '>30']);"
   ]
  },
  {
   "cell_type": "markdown",
   "id": "2ee4f77a",
   "metadata": {},
   "source": [
    "Un dels problemes més comuns de treballar amb un conjunt de dades desequilibrat és que el model esdevé esbiaixat a favor de la classe dominant. \n",
    "\n",
    "el mètode SMOTE és una tècnica de sobremostreig que ens permet generar mostres sintètiques de la categoria minoritaria. Aquesta creació de noves instàncies es fa interpolant els valors de les instancies minoritaries més pròximes:"
   ]
  },
  {
   "cell_type": "code",
   "execution_count": 27,
   "id": "7be12f54",
   "metadata": {},
   "outputs": [
    {
     "name": "stdout",
     "output_type": "stream",
     "text": [
      "nou SMOTE dataset Counter({0: 11870, 1: 11870})\n"
     ]
    }
   ],
   "source": [
    "import imblearn\n",
    "from imblearn.over_sampling import SMOTE\n",
    "import collections\n",
    "from collections import Counter\n",
    "\n",
    "\n",
    "sm = SMOTE()\n",
    "\n",
    "smote_sample = olympics.dropna()\n",
    "smote_sample = olympics[['Rank', 'Age', 'grup_edat']] #les úniques columnes numèriques\n",
    "\n",
    "X = smote_sample[['Age']]\n",
    "y = smote_sample.grup_edat\n",
    "X_sm, y_sm = sm.fit_resample(X,y)\n",
    "print('nou SMOTE dataset %s' % Counter(y_sm))"
   ]
  },
  {
   "cell_type": "code",
   "execution_count": 28,
   "id": "c4e4417c",
   "metadata": {},
   "outputs": [
    {
     "data": {
      "image/png": "[encoded data removed]",
      "text/plain": [
       "<Figure size 432x288 with 1 Axes>"
      ]
     },
     "metadata": {
      "needs_background": "light"
     },
     "output_type": "display_data"
    }
   ],
   "source": [
    "sns.countplot(x=y_sm)\n",
    "plt.xticks([0,1], ['<= 30', '>30']);"
   ]
  },
  {
   "cell_type": "markdown",
   "id": "6926b7e7",
   "metadata": {},
   "source": [
    "un cop utilitzada la tècnica SMOTE hem comprovat que existeix el mateix nombre d'atletes majors i menors de 30 anys.\n",
    "\n"
   ]
  },
  {
   "cell_type": "code",
   "execution_count": 29,
   "id": "2189733b",
   "metadata": {},
   "outputs": [
    {
     "data": {
      "text/html": [
       "<div>\n",
       "<style scoped>\n",
       "    .dataframe tbody tr th:only-of-type {\n",
       "        vertical-align: middle;\n",
       "    }\n",
       "\n",
       "    .dataframe tbody tr th {\n",
       "        vertical-align: top;\n",
       "    }\n",
       "\n",
       "    .dataframe thead th {\n",
       "        text-align: right;\n",
       "    }\n",
       "</style>\n",
       "<table border=\"1\" class=\"dataframe\">\n",
       "  <thead>\n",
       "    <tr style=\"text-align: right;\">\n",
       "      <th></th>\n",
       "      <th>Rank</th>\n",
       "      <th>Age</th>\n",
       "      <th>grup_edat</th>\n",
       "    </tr>\n",
       "  </thead>\n",
       "  <tbody>\n",
       "    <tr>\n",
       "      <th>0</th>\n",
       "      <td>37.0</td>\n",
       "      <td>26</td>\n",
       "      <td>0</td>\n",
       "    </tr>\n",
       "    <tr>\n",
       "      <th>1</th>\n",
       "      <td>20.0</td>\n",
       "      <td>26</td>\n",
       "      <td>0</td>\n",
       "    </tr>\n",
       "    <tr>\n",
       "      <th>2</th>\n",
       "      <td>NaN</td>\n",
       "      <td>28</td>\n",
       "      <td>0</td>\n",
       "    </tr>\n",
       "    <tr>\n",
       "      <th>3</th>\n",
       "      <td>NaN</td>\n",
       "      <td>28</td>\n",
       "      <td>0</td>\n",
       "    </tr>\n",
       "    <tr>\n",
       "      <th>4</th>\n",
       "      <td>NaN</td>\n",
       "      <td>28</td>\n",
       "      <td>0</td>\n",
       "    </tr>\n",
       "  </tbody>\n",
       "</table>\n",
       "</div>"
      ],
      "text/plain": [
       "   Rank  Age  grup_edat\n",
       "0  37.0   26          0\n",
       "1  20.0   26          0\n",
       "2   NaN   28          0\n",
       "3   NaN   28          0\n",
       "4   NaN   28          0"
      ]
     },
     "execution_count": 29,
     "metadata": {},
     "output_type": "execute_result"
    }
   ],
   "source": [
    "smote_sample.head()"
   ]
  },
  {
   "cell_type": "markdown",
   "id": "785af6e7",
   "metadata": {},
   "source": [
    "### Exercici 3: Continua amb el conjunt de dades de tema esportiu i genera una mostra utilitzant el mètode Reservoir sampling."
   ]
  },
  {
   "cell_type": "markdown",
   "id": "fb5185b3",
   "metadata": {},
   "source": [
    "en el mètode reservoir sampling és important definir 1 paràmetre:\n",
    "- k = tamany de la mostra que volem\n",
    "\n",
    "A banda, sabem que:\n",
    "- n = quantitat d'elements vists fins el moment\n",
    "- la probabilitat (p) de que un element estigui dins la mostra es defineix com: p = k/n\n",
    "\n",
    "el mètode funciona de la següent forma:\n",
    "1. els primers \"k\" elements s'emmagatzemen tots dins la mostra.\n",
    "2. a partir de l'element k+1: calculem la p=k/n\n",
    "3. generem un nombre aleatori(r) entre 0 i 1:\n",
    "    - si r > p --> la mostra no canvia, el nombre NO entra a formar part de la mostra\n",
    "    - si r <= p --> el nombre entra dins la mostra, substituïnt un dels elements que ja hi era de forma aleatoria\n"
   ]
  },
  {
   "cell_type": "markdown",
   "id": "2163bf97",
   "metadata": {},
   "source": [
    "veiem-ho en un **exemple** fàcil: \n",
    "\n",
    "el nostre stream és [1, 8, 5, 9]\n",
    "\n",
    "i definim una k = 3. Aleshores: \n",
    "\n",
    "1. sabem que les primeres 3(=k) observacions entren dins la mostra. Per lo tant, la nostra mostra seria:\n",
    "    mostra = [1, 8, 5]\n",
    "2. Quan arribem al 4t element (n = 4 = k+1) , calculariem la probabilitat de que el nombre 9 estigui dins la mostra: \n",
    "    p = 3/4\n",
    "3. Generem un nombre aleatori (r), entre 0 i 1, per evaluar si el nombre 9 entra dins la mostra:\n",
    "    - si r > 3/4 --> 9 no entra a la mostra i la mostra final serà la que ja tenim\n",
    "    - si r <= 3/4 --> 9 entra a la mostra reemplaçant un dels elements ja existents ([1, 8, 5])\n",
    "    \n",
    "Per lo tant, depenent del valor de r, la nostra mostra canviarà o no. \n",
    "veiem-ho en el nostre dataset:"
   ]
  },
  {
   "cell_type": "code",
   "execution_count": 33,
   "id": "b4ad8443",
   "metadata": {},
   "outputs": [
    {
     "name": "stdout",
     "output_type": "stream",
     "text": [
      "[10847, 14669, 12940, 11287, 5472, 5663, 1058, 4445, 8321, 10000, 3298, 596, 7195, 8887, 311, 10057, 12212, 14470, 585, 13711, 6381, 6374, 2473, 7789, 2459, 1167, 1198, 8217, 13724, 12164, 8986, 7189, 9517, 7891, 8984, 13628, 3716, 5052, 7042, 13202, 4511, 12057, 2136, 5772, 3342, 8499, 11565, 13566, 149, 9959, 7412, 6169, 9641, 4073, 4022, 13263, 10988, 5841, 13732, 6801, 6108, 13532, 7129, 9223, 12806, 2482, 8506, 8303, 2089, 13461, 3808, 4484, 10001, 5514, 7727, 7855, 9530, 6630, 11691, 12577, 7594, 8242, 10484, 330, 3627, 8127, 9740, 3055, 6315, 11893, 90, 1024, 14787, 183, 9675, 5157, 618, 1049, 2374, 12366]\n"
     ]
    }
   ],
   "source": [
    "\n",
    "stream = olympics.index\n",
    "\n",
    "k=100\n",
    "reservoir = []\n",
    "for i, element in enumerate(stream):\n",
    "    if i+1<= k:\n",
    "        reservoir.append(element)\n",
    "    else:\n",
    "        probability = k/(i+1)\n",
    "        if random.random() < probability:\n",
    "            # Select item in stream and remove one of the k items already selected\n",
    "             reservoir[random.choice(range(0,k))] = element\n",
    "                \n",
    "                \n",
    "print(reservoir) #imprimim els nums d'index del dataset que formaran part de la mostra"
   ]
  },
  {
   "cell_type": "code",
   "execution_count": 34,
   "id": "5da59f0e",
   "metadata": {},
   "outputs": [
    {
     "data": {
      "text/html": [
       "<div>\n",
       "<style scoped>\n",
       "    .dataframe tbody tr th:only-of-type {\n",
       "        vertical-align: middle;\n",
       "    }\n",
       "\n",
       "    .dataframe tbody tr th {\n",
       "        vertical-align: top;\n",
       "    }\n",
       "\n",
       "    .dataframe thead th {\n",
       "        text-align: right;\n",
       "    }\n",
       "</style>\n",
       "<table border=\"1\" class=\"dataframe\">\n",
       "  <thead>\n",
       "    <tr style=\"text-align: right;\">\n",
       "      <th></th>\n",
       "      <th>Name</th>\n",
       "      <th>Gender</th>\n",
       "      <th>Age</th>\n",
       "      <th>Country</th>\n",
       "      <th>Sport</th>\n",
       "      <th>Event</th>\n",
       "      <th>Rank</th>\n",
       "      <th>Medal</th>\n",
       "      <th>grup_edat</th>\n",
       "    </tr>\n",
       "  </thead>\n",
       "  <tbody>\n",
       "    <tr>\n",
       "      <th>10847</th>\n",
       "      <td>RADUKANOVA Madlen</td>\n",
       "      <td>Female</td>\n",
       "      <td>21</td>\n",
       "      <td>Bulgaria</td>\n",
       "      <td>Rhythmic Gymnastics</td>\n",
       "      <td>Group All-Around Team</td>\n",
       "      <td>1.0</td>\n",
       "      <td>Gold</td>\n",
       "      <td>0</td>\n",
       "    </tr>\n",
       "    <tr>\n",
       "      <th>14669</th>\n",
       "      <td>YAMASAKI Erika Yuriko Iris</td>\n",
       "      <td>Female</td>\n",
       "      <td>33</td>\n",
       "      <td>Australia</td>\n",
       "      <td>Weightlifting</td>\n",
       "      <td>Women's 59kg</td>\n",
       "      <td>12.0</td>\n",
       "      <td>NaN</td>\n",
       "      <td>1</td>\n",
       "    </tr>\n",
       "    <tr>\n",
       "      <th>12940</th>\n",
       "      <td>TANABE Yuki</td>\n",
       "      <td>Female</td>\n",
       "      <td>31</td>\n",
       "      <td>Japan</td>\n",
       "      <td>Handball</td>\n",
       "      <td>Women Team</td>\n",
       "      <td>12.0</td>\n",
       "      <td>NaN</td>\n",
       "      <td>1</td>\n",
       "    </tr>\n",
       "    <tr>\n",
       "      <th>11287</th>\n",
       "      <td>ROSE Alex</td>\n",
       "      <td>Male</td>\n",
       "      <td>29</td>\n",
       "      <td>Samoa</td>\n",
       "      <td>Athletics</td>\n",
       "      <td>Men's Discus Throw</td>\n",
       "      <td>NaN</td>\n",
       "      <td>NaN</td>\n",
       "      <td>0</td>\n",
       "    </tr>\n",
       "    <tr>\n",
       "      <th>5472</th>\n",
       "      <td>HO-SHUE Jason</td>\n",
       "      <td>Male</td>\n",
       "      <td>22</td>\n",
       "      <td>Canada</td>\n",
       "      <td>Badminton</td>\n",
       "      <td>Men's Doubles Team</td>\n",
       "      <td>9.0</td>\n",
       "      <td>NaN</td>\n",
       "      <td>0</td>\n",
       "    </tr>\n",
       "    <tr>\n",
       "      <th>...</th>\n",
       "      <td>...</td>\n",
       "      <td>...</td>\n",
       "      <td>...</td>\n",
       "      <td>...</td>\n",
       "      <td>...</td>\n",
       "      <td>...</td>\n",
       "      <td>...</td>\n",
       "      <td>...</td>\n",
       "      <td>...</td>\n",
       "    </tr>\n",
       "    <tr>\n",
       "      <th>5157</th>\n",
       "      <td>HEALY Sarah</td>\n",
       "      <td>Female</td>\n",
       "      <td>20</td>\n",
       "      <td>Ireland</td>\n",
       "      <td>Athletics</td>\n",
       "      <td>Women's 1500m</td>\n",
       "      <td>NaN</td>\n",
       "      <td>NaN</td>\n",
       "      <td>0</td>\n",
       "    </tr>\n",
       "    <tr>\n",
       "      <th>618</th>\n",
       "      <td>ARAI Chizuru</td>\n",
       "      <td>Female</td>\n",
       "      <td>27</td>\n",
       "      <td>Japan</td>\n",
       "      <td>Judo</td>\n",
       "      <td>Women -70 kg</td>\n",
       "      <td>1.0</td>\n",
       "      <td>Gold</td>\n",
       "      <td>0</td>\n",
       "    </tr>\n",
       "    <tr>\n",
       "      <th>1049</th>\n",
       "      <td>BASIC Hana</td>\n",
       "      <td>Female</td>\n",
       "      <td>25</td>\n",
       "      <td>Australia</td>\n",
       "      <td>Athletics</td>\n",
       "      <td>Women's 100m</td>\n",
       "      <td>NaN</td>\n",
       "      <td>NaN</td>\n",
       "      <td>0</td>\n",
       "    </tr>\n",
       "    <tr>\n",
       "      <th>2374</th>\n",
       "      <td>CHINYEMBA Patrick</td>\n",
       "      <td>Male</td>\n",
       "      <td>20</td>\n",
       "      <td>Zambia</td>\n",
       "      <td>Boxing</td>\n",
       "      <td>Men's Fly (48-52kg)</td>\n",
       "      <td>9.0</td>\n",
       "      <td>NaN</td>\n",
       "      <td>0</td>\n",
       "    </tr>\n",
       "    <tr>\n",
       "      <th>12366</th>\n",
       "      <td>SMITH Haley</td>\n",
       "      <td>Female</td>\n",
       "      <td>27</td>\n",
       "      <td>Canada</td>\n",
       "      <td>Cycling Mountain Bike</td>\n",
       "      <td>Women's Cross-country</td>\n",
       "      <td>NaN</td>\n",
       "      <td>NaN</td>\n",
       "      <td>0</td>\n",
       "    </tr>\n",
       "  </tbody>\n",
       "</table>\n",
       "<p>100 rows × 9 columns</p>\n",
       "</div>"
      ],
      "text/plain": [
       "                             Name  Gender  Age    Country  \\\n",
       "10847           RADUKANOVA Madlen  Female   21   Bulgaria   \n",
       "14669  YAMASAKI Erika Yuriko Iris  Female   33  Australia   \n",
       "12940                 TANABE Yuki  Female   31      Japan   \n",
       "11287                   ROSE Alex    Male   29      Samoa   \n",
       "5472                HO-SHUE Jason    Male   22     Canada   \n",
       "...                           ...     ...  ...        ...   \n",
       "5157                  HEALY Sarah  Female   20    Ireland   \n",
       "618                  ARAI Chizuru  Female   27      Japan   \n",
       "1049                   BASIC Hana  Female   25  Australia   \n",
       "2374            CHINYEMBA Patrick    Male   20     Zambia   \n",
       "12366                 SMITH Haley  Female   27     Canada   \n",
       "\n",
       "                       Sport                  Event  Rank Medal  grup_edat  \n",
       "10847    Rhythmic Gymnastics  Group All-Around Team   1.0  Gold          0  \n",
       "14669          Weightlifting           Women's 59kg  12.0   NaN          1  \n",
       "12940               Handball             Women Team  12.0   NaN          1  \n",
       "11287              Athletics     Men's Discus Throw   NaN   NaN          0  \n",
       "5472               Badminton     Men's Doubles Team   9.0   NaN          0  \n",
       "...                      ...                    ...   ...   ...        ...  \n",
       "5157               Athletics          Women's 1500m   NaN   NaN          0  \n",
       "618                     Judo           Women -70 kg   1.0  Gold          0  \n",
       "1049               Athletics           Women's 100m   NaN   NaN          0  \n",
       "2374                  Boxing    Men's Fly (48-52kg)   9.0   NaN          0  \n",
       "12366  Cycling Mountain Bike  Women's Cross-country   NaN   NaN          0  \n",
       "\n",
       "[100 rows x 9 columns]"
      ]
     },
     "execution_count": 34,
     "metadata": {},
     "output_type": "execute_result"
    }
   ],
   "source": [
    "#imprimim el dataset amb els indexs obtinguts mitjançant el mètode Reservoir Sampling \n",
    "reservoir_sampling = olympics.iloc[reservoir]\n",
    "reservoir_sampling"
   ]
  }
 ],
 "metadata": {
  "kernelspec": {
   "display_name": "Python 3 (ipykernel)",
   "language": "python",
   "name": "python3"
  },
  "language_info": {
   "codemirror_mode": {
    "name": "ipython",
    "version": 3
   },
   "file_extension": ".py",
   "mimetype": "text/x-python",
   "name": "python",
   "nbconvert_exporter": "python",
   "pygments_lexer": "ipython3",
   "version": "3.8.11"
  },
  "latex_envs": {
   "LaTeX_envs_menu_present": true,
   "autoclose": false,
   "autocomplete": true,
   "bibliofile": "biblio.bib",
   "cite_by": "apalike",
   "current_citInitial": 1,
   "eqLabelWithNumbers": true,
   "eqNumInitial": 1,
   "hotkeys": {
    "equation": "Ctrl-E",
    "itemize": "Ctrl-I"
   },
   "labels_anchors": false,
   "latex_user_defs": false,
   "report_style_numbering": false,
   "user_envs_cfg": false
  }
 },
 "nbformat": 4,
 "nbformat_minor": 5
}
